{
  "cells": [
    {
      "cell_type": "markdown",
      "metadata": {
        "id": "view-in-github",
        "colab_type": "text"
      },
      "source": [
        "<a href=\"https://colab.research.google.com/github/sungshin98/kci/blob/main/kci_klue_roberta_base_its_real.ipynb\" target=\"_parent\"><img src=\"https://colab.research.google.com/assets/colab-badge.svg\" alt=\"Open In Colab\"/></a>"
      ]
    },
    {
      "cell_type": "code",
      "execution_count": 1,
      "metadata": {
        "colab": {
          "base_uri": "https://localhost:8080/"
        },
        "id": "M2Jd5RMy08KO",
        "outputId": "47812ced-46ce-4ca4-cbdb-a637ec2fe430"
      },
      "outputs": [
        {
          "output_type": "stream",
          "name": "stdout",
          "text": [
            "Mounted at /content/drive\n"
          ]
        }
      ],
      "source": [
        "from google.colab import drive\n",
        "drive.mount('/content/drive')"
      ]
    },
    {
      "cell_type": "markdown",
      "metadata": {
        "id": "iZTdFCBcImO-"
      },
      "source": [
        "wav 디렉토리에서 .txt 파일의 개수를 찾음"
      ]
    },
    {
      "cell_type": "code",
      "execution_count": 2,
      "metadata": {
        "colab": {
          "base_uri": "https://localhost:8080/",
          "height": 105
        },
        "id": "KjSiT2vJ2QDC",
        "outputId": "e4a237eb-6c07-46aa-bcaf-9211ce9517c6"
      },
      "outputs": [
        {
          "output_type": "execute_result",
          "data": {
            "text/plain": [
              "'\\nimport os\\n\\ndirectory = \\'/content/drive/MyDrive/wav\\'\\ntotal_files = 0\\n\\n# 디렉토리 순회\\nfor root, dirs, files in os.walk(directory):\\n    # txt 파일 개수 계산\\n    txt_files = [file for file in files if file.endswith(\\'.txt\\')]\\n    total_files += len(txt_files)\\n\\nprint(\"총 txt 파일 개수:\", total_files)\\n'"
            ],
            "application/vnd.google.colaboratory.intrinsic+json": {
              "type": "string"
            }
          },
          "metadata": {},
          "execution_count": 2
        }
      ],
      "source": [
        "'''\n",
        "import os\n",
        "\n",
        "directory = '/content/drive/MyDrive/wav'\n",
        "total_files = 0\n",
        "\n",
        "# 디렉토리 순회\n",
        "for root, dirs, files in os.walk(directory):\n",
        "    # txt 파일 개수 계산\n",
        "    txt_files = [file for file in files if file.endswith('.txt')]\n",
        "    total_files += len(txt_files)\n",
        "\n",
        "print(\"총 txt 파일 개수:\", total_files)\n",
        "'''"
      ]
    },
    {
      "cell_type": "code",
      "execution_count": 3,
      "metadata": {
        "colab": {
          "base_uri": "https://localhost:8080/"
        },
        "id": "dv4spiEU4K_J",
        "outputId": "85d54b0b-8505-44a7-e990-edc22351a63c"
      },
      "outputs": [
        {
          "output_type": "stream",
          "name": "stdout",
          "text": [
            "Collecting transformers\n",
            "  Downloading transformers-4.31.0-py3-none-any.whl (7.4 MB)\n",
            "\u001b[2K     \u001b[90m━━━━━━━━━━━━━━━━━━━━━━━━━━━━━━━━━━━━━━━━\u001b[0m \u001b[32m7.4/7.4 MB\u001b[0m \u001b[31m63.6 MB/s\u001b[0m eta \u001b[36m0:00:00\u001b[0m\n",
            "\u001b[?25hRequirement already satisfied: filelock in /usr/local/lib/python3.10/dist-packages (from transformers) (3.12.2)\n",
            "Collecting huggingface-hub<1.0,>=0.14.1 (from transformers)\n",
            "  Downloading huggingface_hub-0.16.4-py3-none-any.whl (268 kB)\n",
            "\u001b[2K     \u001b[90m━━━━━━━━━━━━━━━━━━━━━━━━━━━━━━━━━━━━━━\u001b[0m \u001b[32m268.8/268.8 kB\u001b[0m \u001b[31m31.4 MB/s\u001b[0m eta \u001b[36m0:00:00\u001b[0m\n",
            "\u001b[?25hRequirement already satisfied: numpy>=1.17 in /usr/local/lib/python3.10/dist-packages (from transformers) (1.23.5)\n",
            "Requirement already satisfied: packaging>=20.0 in /usr/local/lib/python3.10/dist-packages (from transformers) (23.1)\n",
            "Requirement already satisfied: pyyaml>=5.1 in /usr/local/lib/python3.10/dist-packages (from transformers) (6.0.1)\n",
            "Requirement already satisfied: regex!=2019.12.17 in /usr/local/lib/python3.10/dist-packages (from transformers) (2023.6.3)\n",
            "Requirement already satisfied: requests in /usr/local/lib/python3.10/dist-packages (from transformers) (2.31.0)\n",
            "Collecting tokenizers!=0.11.3,<0.14,>=0.11.1 (from transformers)\n",
            "  Downloading tokenizers-0.13.3-cp310-cp310-manylinux_2_17_x86_64.manylinux2014_x86_64.whl (7.8 MB)\n",
            "\u001b[2K     \u001b[90m━━━━━━━━━━━━━━━━━━━━━━━━━━━━━━━━━━━━━━━━\u001b[0m \u001b[32m7.8/7.8 MB\u001b[0m \u001b[31m66.6 MB/s\u001b[0m eta \u001b[36m0:00:00\u001b[0m\n",
            "\u001b[?25hCollecting safetensors>=0.3.1 (from transformers)\n",
            "  Downloading safetensors-0.3.2-cp310-cp310-manylinux_2_17_x86_64.manylinux2014_x86_64.whl (1.3 MB)\n",
            "\u001b[2K     \u001b[90m━━━━━━━━━━━━━━━━━━━━━━━━━━━━━━━━━━━━━━━━\u001b[0m \u001b[32m1.3/1.3 MB\u001b[0m \u001b[31m57.1 MB/s\u001b[0m eta \u001b[36m0:00:00\u001b[0m\n",
            "\u001b[?25hRequirement already satisfied: tqdm>=4.27 in /usr/local/lib/python3.10/dist-packages (from transformers) (4.66.1)\n",
            "Requirement already satisfied: fsspec in /usr/local/lib/python3.10/dist-packages (from huggingface-hub<1.0,>=0.14.1->transformers) (2023.6.0)\n",
            "Requirement already satisfied: typing-extensions>=3.7.4.3 in /usr/local/lib/python3.10/dist-packages (from huggingface-hub<1.0,>=0.14.1->transformers) (4.7.1)\n",
            "Requirement already satisfied: charset-normalizer<4,>=2 in /usr/local/lib/python3.10/dist-packages (from requests->transformers) (3.2.0)\n",
            "Requirement already satisfied: idna<4,>=2.5 in /usr/local/lib/python3.10/dist-packages (from requests->transformers) (3.4)\n",
            "Requirement already satisfied: urllib3<3,>=1.21.1 in /usr/local/lib/python3.10/dist-packages (from requests->transformers) (2.0.4)\n",
            "Requirement already satisfied: certifi>=2017.4.17 in /usr/local/lib/python3.10/dist-packages (from requests->transformers) (2023.7.22)\n",
            "Installing collected packages: tokenizers, safetensors, huggingface-hub, transformers\n",
            "Successfully installed huggingface-hub-0.16.4 safetensors-0.3.2 tokenizers-0.13.3 transformers-4.31.0\n",
            "Collecting tensorflow_addons\n",
            "  Downloading tensorflow_addons-0.21.0-cp310-cp310-manylinux_2_17_x86_64.manylinux2014_x86_64.whl (612 kB)\n",
            "\u001b[2K     \u001b[90m━━━━━━━━━━━━━━━━━━━━━━━━━━━━━━━━━━━━━━\u001b[0m \u001b[32m612.1/612.1 kB\u001b[0m \u001b[31m10.4 MB/s\u001b[0m eta \u001b[36m0:00:00\u001b[0m\n",
            "\u001b[?25hRequirement already satisfied: packaging in /usr/local/lib/python3.10/dist-packages (from tensorflow_addons) (23.1)\n",
            "Collecting typeguard<3.0.0,>=2.7 (from tensorflow_addons)\n",
            "  Downloading typeguard-2.13.3-py3-none-any.whl (17 kB)\n",
            "Installing collected packages: typeguard, tensorflow_addons\n",
            "Successfully installed tensorflow_addons-0.21.0 typeguard-2.13.3\n"
          ]
        }
      ],
      "source": [
        "!pip install transformers\n",
        "!pip install tensorflow_addons"
      ]
    },
    {
      "cell_type": "code",
      "execution_count": 25,
      "metadata": {
        "id": "JKgNDcP04RTv"
      },
      "outputs": [],
      "source": [
        "import os\n",
        "import pandas as pd\n",
        "import numpy as np\n",
        "import re\n",
        "from tqdm import tqdm\n",
        "import urllib.request\n",
        "import seaborn as sns\n",
        "import matplotlib.pyplot as plt\n",
        "import tensorflow_addons as tfa\n",
        "import tensorflow as tf\n",
        "from tensorflow.keras.callbacks import EarlyStopping, ModelCheckpoint, Callback\n",
        "from transformers import TFRobertaForSequenceClassification, RobertaTokenizer\n",
        "from sklearn.model_selection import train_test_split\n",
        "from sklearn.metrics import accuracy_score, f1_score, precision_score, recall_score, \\\n",
        "                            roc_auc_score, confusion_matrix, classification_report, \\\n",
        "                            matthews_corrcoef, cohen_kappa_score, log_loss"
      ]
    },
    {
      "cell_type": "code",
      "execution_count": 26,
      "metadata": {
        "colab": {
          "base_uri": "https://localhost:8080/"
        },
        "id": "o2MxxFs64SLB",
        "outputId": "3a81ac41-f833-4dc5-f3a0-c0757144391c"
      },
      "outputs": [
        {
          "output_type": "stream",
          "name": "stderr",
          "text": [
            "Some weights of the PyTorch model were not used when initializing the TF 2.0 model TFRobertaModel: ['lm_head.dense.weight', 'lm_head.bias', 'lm_head.dense.bias', 'lm_head.layer_norm.weight', 'lm_head.layer_norm.bias', 'roberta.embeddings.position_ids']\n",
            "- This IS expected if you are initializing TFRobertaModel from a PyTorch model trained on another task or with another architecture (e.g. initializing a TFBertForSequenceClassification model from a BertForPreTraining model).\n",
            "- This IS NOT expected if you are initializing TFRobertaModel from a PyTorch model that you expect to be exactly identical (e.g. initializing a TFBertForSequenceClassification model from a BertForSequenceClassification model).\n",
            "Some weights or buffers of the TF 2.0 model TFRobertaModel were not initialized from the PyTorch model and are newly initialized: ['roberta.pooler.dense.weight', 'roberta.pooler.dense.bias']\n",
            "You should probably TRAIN this model on a down-stream task to be able to use it for predictions and inference.\n"
          ]
        }
      ],
      "source": [
        "from transformers import AutoTokenizer,TFAutoModel\n",
        "\n",
        "model = TFAutoModel.from_pretrained(\"klue/roberta-base\")\n",
        "tokenizer = AutoTokenizer.from_pretrained(\"klue/roberta-base\")"
      ]
    },
    {
      "cell_type": "code",
      "execution_count": 27,
      "metadata": {
        "colab": {
          "base_uri": "https://localhost:8080/"
        },
        "id": "OOuDVzNG4cP_",
        "outputId": "c40ddf8e-1249-4497-ac84-262232dd92e4"
      },
      "outputs": [
        {
          "output_type": "stream",
          "name": "stdout",
          "text": [
            "GPU 작동 중\n"
          ]
        }
      ],
      "source": [
        "device_name = tf.test.gpu_device_name()\n",
        "if device_name == '/device:GPU:0':\n",
        "  print(\"GPU 작동 중\")\n",
        "  mirrored_strategy = tf.distribute.MirroredStrategy()\n",
        "else:\n",
        "  print(\"GPU 미작동 중\")"
      ]
    },
    {
      "cell_type": "markdown",
      "metadata": {
        "id": "W99rsTYDIu-H"
      },
      "source": [
        "annotation 내의 파일들과 wav 디렉토리 내의 txt 파일들을 매칭하여\n",
        "새로운 csv 파일 만듦 (스크립트와 감정 매칭)\n"
      ]
    },
    {
      "cell_type": "code",
      "execution_count": 28,
      "metadata": {
        "id": "anpLAjq9Huzo",
        "colab": {
          "base_uri": "https://localhost:8080/",
          "height": 261
        },
        "outputId": "ee6882cf-ecd5-44bd-ff96-2f2a866dac14"
      },
      "outputs": [
        {
          "output_type": "execute_result",
          "data": {
            "text/plain": [
              "'\\nimport os\\nimport pandas as pd\\n\\n# 데이터를 담을 빈 리스트 생성\\ndata = []\\n\\n# 디렉토리 순회\\ndirectory = \\'/content/drive/MyDrive/wav\\'\\neval_directory = \\'/content/drive/MyDrive/annotation\\'\\nfor session in range(1, 41):\\n    session_dir = os.path.join(directory, f\"Session{session:02d}\")\\n    eval_file = os.path.join(eval_directory, f\"Sess{session:02d}_eval.csv\")\\n    if os.path.exists(session_dir) and os.path.exists(eval_file):\\n        eval_data = pd.read_csv(eval_file)\\n        for filename in os.listdir(session_dir):\\n            if filename.endswith(\".txt\"):\\n                txt_file = os.path.join(session_dir, filename)\\n                with open(txt_file, \\'r\\' , encoding=\\'cp949\\') as f:\\n                    segment_id = os.path.splitext(filename)[0]\\n                    sentiment = f.read().strip()\\n                    try:\\n                        total_evaluation = eval_data[eval_data[\\'Segment ID\\'] == segment_id][\\'Total Evaluation\\'].values[0]\\n                    except IndexError:\\n                        total_evaluation = \"Unknown\"\\n                    data.append([segment_id, sentiment, total_evaluation])\\n\\n# DataFrame으로 변환하고 CSV 파일로 저장\\ndf = pd.DataFrame(data, columns=[\\'Segment ID\\',\\'Sentiment\\', \\'Total Evaluation\\'])\\ndf.to_csv(\\'/content/drive/MyDrive/wav/sentiment_evaluation_with_LSTM&CNN.csv\\', index=False)\\n'"
            ],
            "application/vnd.google.colaboratory.intrinsic+json": {
              "type": "string"
            }
          },
          "metadata": {},
          "execution_count": 28
        }
      ],
      "source": [
        "'''\n",
        "import os\n",
        "import pandas as pd\n",
        "\n",
        "# 데이터를 담을 빈 리스트 생성\n",
        "data = []\n",
        "\n",
        "# 디렉토리 순회\n",
        "directory = '/content/drive/MyDrive/wav'\n",
        "eval_directory = '/content/drive/MyDrive/annotation'\n",
        "for session in range(1, 41):\n",
        "    session_dir = os.path.join(directory, f\"Session{session:02d}\")\n",
        "    eval_file = os.path.join(eval_directory, f\"Sess{session:02d}_eval.csv\")\n",
        "    if os.path.exists(session_dir) and os.path.exists(eval_file):\n",
        "        eval_data = pd.read_csv(eval_file)\n",
        "        for filename in os.listdir(session_dir):\n",
        "            if filename.endswith(\".txt\"):\n",
        "                txt_file = os.path.join(session_dir, filename)\n",
        "                with open(txt_file, 'r' , encoding='cp949') as f:\n",
        "                    segment_id = os.path.splitext(filename)[0]\n",
        "                    sentiment = f.read().strip()\n",
        "                    try:\n",
        "                        total_evaluation = eval_data[eval_data['Segment ID'] == segment_id]['Total Evaluation'].values[0]\n",
        "                    except IndexError:\n",
        "                        total_evaluation = \"Unknown\"\n",
        "                    data.append([segment_id, sentiment, total_evaluation])\n",
        "\n",
        "# DataFrame으로 변환하고 CSV 파일로 저장\n",
        "df = pd.DataFrame(data, columns=['Segment ID','Sentiment', 'Total Evaluation'])\n",
        "df.to_csv('/content/drive/MyDrive/wav/sentiment_evaluation_with_LSTM&CNN.csv', index=False)\n",
        "'''\n"
      ]
    },
    {
      "cell_type": "code",
      "execution_count": 29,
      "metadata": {
        "id": "2IfT-zo1TVqr"
      },
      "outputs": [],
      "source": [
        "df = pd.read_csv('/content/drive/MyDrive/wav/sentiment_evaluation_with_LSTM&CNN.csv')\n",
        "\n",
        "df=df.sort_values(by=\"Segment ID\")"
      ]
    },
    {
      "cell_type": "code",
      "execution_count": 30,
      "metadata": {
        "colab": {
          "base_uri": "https://localhost:8080/",
          "height": 89
        },
        "id": "pbjrToFYPBdE",
        "outputId": "d59be2e1-8aa4-4dba-8a02-4510a6e52dc8"
      },
      "outputs": [
        {
          "output_type": "execute_result",
          "data": {
            "text/plain": [
              "Empty DataFrame\n",
              "Columns: [Segment ID, Sentiment, Total Evaluation]\n",
              "Index: []"
            ],
            "text/html": [
              "\n",
              "  <div id=\"df-39855e97-8d99-4a1a-89cd-89e5aafba2ed\" class=\"colab-df-container\">\n",
              "    <div>\n",
              "<style scoped>\n",
              "    .dataframe tbody tr th:only-of-type {\n",
              "        vertical-align: middle;\n",
              "    }\n",
              "\n",
              "    .dataframe tbody tr th {\n",
              "        vertical-align: top;\n",
              "    }\n",
              "\n",
              "    .dataframe thead th {\n",
              "        text-align: right;\n",
              "    }\n",
              "</style>\n",
              "<table border=\"1\" class=\"dataframe\">\n",
              "  <thead>\n",
              "    <tr style=\"text-align: right;\">\n",
              "      <th></th>\n",
              "      <th>Segment ID</th>\n",
              "      <th>Sentiment</th>\n",
              "      <th>Total Evaluation</th>\n",
              "    </tr>\n",
              "  </thead>\n",
              "  <tbody>\n",
              "  </tbody>\n",
              "</table>\n",
              "</div>\n",
              "    <div class=\"colab-df-buttons\">\n",
              "\n",
              "  <div class=\"colab-df-container\">\n",
              "    <button class=\"colab-df-convert\" onclick=\"convertToInteractive('df-39855e97-8d99-4a1a-89cd-89e5aafba2ed')\"\n",
              "            title=\"Convert this dataframe to an interactive table.\"\n",
              "            style=\"display:none;\">\n",
              "\n",
              "  <svg xmlns=\"http://www.w3.org/2000/svg\" height=\"24px\" viewBox=\"0 -960 960 960\">\n",
              "    <path d=\"M120-120v-720h720v720H120Zm60-500h600v-160H180v160Zm220 220h160v-160H400v160Zm0 220h160v-160H400v160ZM180-400h160v-160H180v160Zm440 0h160v-160H620v160ZM180-180h160v-160H180v160Zm440 0h160v-160H620v160Z\"/>\n",
              "  </svg>\n",
              "    </button>\n",
              "\n",
              "  <style>\n",
              "    .colab-df-container {\n",
              "      display:flex;\n",
              "      gap: 12px;\n",
              "    }\n",
              "\n",
              "    .colab-df-convert {\n",
              "      background-color: #E8F0FE;\n",
              "      border: none;\n",
              "      border-radius: 50%;\n",
              "      cursor: pointer;\n",
              "      display: none;\n",
              "      fill: #1967D2;\n",
              "      height: 32px;\n",
              "      padding: 0 0 0 0;\n",
              "      width: 32px;\n",
              "    }\n",
              "\n",
              "    .colab-df-convert:hover {\n",
              "      background-color: #E2EBFA;\n",
              "      box-shadow: 0px 1px 2px rgba(60, 64, 67, 0.3), 0px 1px 3px 1px rgba(60, 64, 67, 0.15);\n",
              "      fill: #174EA6;\n",
              "    }\n",
              "\n",
              "    .colab-df-buttons div {\n",
              "      margin-bottom: 4px;\n",
              "    }\n",
              "\n",
              "    [theme=dark] .colab-df-convert {\n",
              "      background-color: #3B4455;\n",
              "      fill: #D2E3FC;\n",
              "    }\n",
              "\n",
              "    [theme=dark] .colab-df-convert:hover {\n",
              "      background-color: #434B5C;\n",
              "      box-shadow: 0px 1px 3px 1px rgba(0, 0, 0, 0.15);\n",
              "      filter: drop-shadow(0px 1px 2px rgba(0, 0, 0, 0.3));\n",
              "      fill: #FFFFFF;\n",
              "    }\n",
              "  </style>\n",
              "\n",
              "    <script>\n",
              "      const buttonEl =\n",
              "        document.querySelector('#df-39855e97-8d99-4a1a-89cd-89e5aafba2ed button.colab-df-convert');\n",
              "      buttonEl.style.display =\n",
              "        google.colab.kernel.accessAllowed ? 'block' : 'none';\n",
              "\n",
              "      async function convertToInteractive(key) {\n",
              "        const element = document.querySelector('#df-39855e97-8d99-4a1a-89cd-89e5aafba2ed');\n",
              "        const dataTable =\n",
              "          await google.colab.kernel.invokeFunction('convertToInteractive',\n",
              "                                                    [key], {});\n",
              "        if (!dataTable) return;\n",
              "\n",
              "        const docLinkHtml = 'Like what you see? Visit the ' +\n",
              "          '<a target=\"_blank\" href=https://colab.research.google.com/notebooks/data_table.ipynb>data table notebook</a>'\n",
              "          + ' to learn more about interactive tables.';\n",
              "        element.innerHTML = '';\n",
              "        dataTable['output_type'] = 'display_data';\n",
              "        await google.colab.output.renderOutput(dataTable, element);\n",
              "        const docLink = document.createElement('div');\n",
              "        docLink.innerHTML = docLinkHtml;\n",
              "        element.appendChild(docLink);\n",
              "      }\n",
              "    </script>\n",
              "  </div>\n",
              "\n",
              "\n",
              "<div id=\"df-a35fd2a4-c262-4e8d-8a39-6d80057419d5\">\n",
              "  <button class=\"colab-df-quickchart\" onclick=\"quickchart('df-a35fd2a4-c262-4e8d-8a39-6d80057419d5')\"\n",
              "            title=\"Suggest charts.\"\n",
              "            style=\"display:none;\">\n",
              "\n",
              "<svg xmlns=\"http://www.w3.org/2000/svg\" height=\"24px\"viewBox=\"0 0 24 24\"\n",
              "     width=\"24px\">\n",
              "    <g>\n",
              "        <path d=\"M19 3H5c-1.1 0-2 .9-2 2v14c0 1.1.9 2 2 2h14c1.1 0 2-.9 2-2V5c0-1.1-.9-2-2-2zM9 17H7v-7h2v7zm4 0h-2V7h2v10zm4 0h-2v-4h2v4z\"/>\n",
              "    </g>\n",
              "</svg>\n",
              "  </button>\n",
              "\n",
              "<style>\n",
              "  .colab-df-quickchart {\n",
              "    background-color: #E8F0FE;\n",
              "    border: none;\n",
              "    border-radius: 50%;\n",
              "    cursor: pointer;\n",
              "    display: none;\n",
              "    fill: #1967D2;\n",
              "    height: 32px;\n",
              "    padding: 0 0 0 0;\n",
              "    width: 32px;\n",
              "  }\n",
              "\n",
              "  .colab-df-quickchart:hover {\n",
              "    background-color: #E2EBFA;\n",
              "    box-shadow: 0px 1px 2px rgba(60, 64, 67, 0.3), 0px 1px 3px 1px rgba(60, 64, 67, 0.15);\n",
              "    fill: #174EA6;\n",
              "  }\n",
              "\n",
              "  [theme=dark] .colab-df-quickchart {\n",
              "    background-color: #3B4455;\n",
              "    fill: #D2E3FC;\n",
              "  }\n",
              "\n",
              "  [theme=dark] .colab-df-quickchart:hover {\n",
              "    background-color: #434B5C;\n",
              "    box-shadow: 0px 1px 3px 1px rgba(0, 0, 0, 0.15);\n",
              "    filter: drop-shadow(0px 1px 2px rgba(0, 0, 0, 0.3));\n",
              "    fill: #FFFFFF;\n",
              "  }\n",
              "</style>\n",
              "\n",
              "  <script>\n",
              "    async function quickchart(key) {\n",
              "      const charts = await google.colab.kernel.invokeFunction(\n",
              "          'suggestCharts', [key], {});\n",
              "    }\n",
              "    (() => {\n",
              "      let quickchartButtonEl =\n",
              "        document.querySelector('#df-a35fd2a4-c262-4e8d-8a39-6d80057419d5 button');\n",
              "      quickchartButtonEl.style.display =\n",
              "        google.colab.kernel.accessAllowed ? 'block' : 'none';\n",
              "    })();\n",
              "  </script>\n",
              "</div>\n",
              "    </div>\n",
              "  </div>\n"
            ]
          },
          "metadata": {},
          "execution_count": 30
        }
      ],
      "source": [
        "df[df['Total Evaluation'] == \"Unknwon\"] #결측치"
      ]
    },
    {
      "cell_type": "code",
      "execution_count": 31,
      "metadata": {
        "colab": {
          "base_uri": "https://localhost:8080/"
        },
        "id": "8UEos90KQGbz",
        "outputId": "f31fd18b-6b3f-41f3-d947-838c1397692b"
      },
      "outputs": [
        {
          "output_type": "stream",
          "name": "stdout",
          "text": [
            "neutral     11249\n",
            "happy        1543\n",
            "angry         233\n",
            "surprise      212\n",
            "sad           121\n",
            "disqust        61\n",
            "fear           43\n",
            "Name: Total Evaluation, dtype: int64\n"
          ]
        }
      ],
      "source": [
        "# 합칠 값들과 합칠 기준값 설정\n",
        "values_to_merge = [\"happy;neutral\", \"angry;neutral\", \"neutral;sad\", \"surprise;neutral\", \"neutral;disqust\", \"happy;surprise\", \"angry;disqust\",\n",
        "                   \"happy;fear\", \"angry;neutral;disqust\", \"happy;sad\", \"neutral;disqust;sad\", \"angry;neutral;disqust;fear;sad\",\n",
        "                   \"happy;surprise;neutral\", \"happy;angry;neutral\", \"Unknown\", \"happy;neutral;disqust\", \"happy;neutral;fear\", \"neutral;fear\"]\n",
        "\n",
        "# 합칠 값들을 하나의 값으로 합치기\n",
        "for value in values_to_merge:\n",
        "    merged_value = value.split(';')[0]  # 합칠 값들 중 첫 번째 값을 선택하여 합칠 값으로 사용\n",
        "    df['Total Evaluation'] = df['Total Evaluation'].replace(value, merged_value)\n",
        "\n",
        "df=df[df['Total Evaluation']!='Unknown']  # 결측치 제거\n",
        "\n",
        "print(df['Total Evaluation'].value_counts())\n"
      ]
    },
    {
      "cell_type": "code",
      "execution_count": 32,
      "metadata": {
        "id": "3Vt00oxWUtln",
        "colab": {
          "base_uri": "https://localhost:8080/"
        },
        "outputId": "e2541d9a-27ab-4031-adc5-3852e546fcc8"
      },
      "outputs": [
        {
          "output_type": "stream",
          "name": "stderr",
          "text": [
            "<ipython-input-32-f0cbb6b7f4f6>:2: SettingWithCopyWarning: \n",
            "A value is trying to be set on a copy of a slice from a DataFrame.\n",
            "Try using .loc[row_indexer,col_indexer] = value instead\n",
            "\n",
            "See the caveats in the documentation: https://pandas.pydata.org/pandas-docs/stable/user_guide/indexing.html#returning-a-view-versus-a-copy\n",
            "  df['Total Evaluation'] = df['Total Evaluation'].replace(['neutral', 'happy', 'angry', 'surprise', 'sad', 'disqust', 'fear'] ,[0, 1, 2, 3, 4, 5, 6])\n",
            "<ipython-input-32-f0cbb6b7f4f6>:10: SettingWithCopyWarning: \n",
            "A value is trying to be set on a copy of a slice from a DataFrame.\n",
            "Try using .loc[row_indexer,col_indexer] = value instead\n",
            "\n",
            "See the caveats in the documentation: https://pandas.pydata.org/pandas-docs/stable/user_guide/indexing.html#returning-a-view-versus-a-copy\n",
            "  df['Sentiment'] = df['Sentiment'].apply(remove_special_characters)\n"
          ]
        }
      ],
      "source": [
        "# 감정을 숫자로 변환\n",
        "df['Total Evaluation'] = df['Total Evaluation'].replace(['neutral', 'happy', 'angry', 'surprise', 'sad', 'disqust', 'fear'] ,[0, 1, 2, 3, 4, 5, 6])\n",
        "\n",
        "# 영어와 특수문자 제외한 문자 제거 함수 정의 (\\n 과 같은 문제 제거)\n",
        "def remove_special_characters(text):\n",
        "    processed_text = re.sub(r\"[^가-힣.]\", \" \", text)\n",
        "    return processed_text\n",
        "\n",
        "# 'Sentiment' 열에 함수 적용\n",
        "df['Sentiment'] = df['Sentiment'].apply(remove_special_characters)\n",
        "\n"
      ]
    },
    {
      "cell_type": "code",
      "execution_count": 33,
      "metadata": {
        "colab": {
          "base_uri": "https://localhost:8080/"
        },
        "id": "-L-JYpNAiKma",
        "outputId": "aa853e79-3b08-44a3-9c5b-7dc7b78a20ea"
      },
      "outputs": [
        {
          "output_type": "execute_result",
          "data": {
            "text/plain": [
              "0    11249\n",
              "1     1543\n",
              "2      233\n",
              "3      212\n",
              "4      121\n",
              "5       61\n",
              "6       43\n",
              "Name: Total Evaluation, dtype: int64"
            ]
          },
          "metadata": {},
          "execution_count": 33
        }
      ],
      "source": [
        "df[\"Total Evaluation\"].value_counts()"
      ]
    },
    {
      "cell_type": "code",
      "execution_count": 34,
      "metadata": {
        "colab": {
          "base_uri": "https://localhost:8080/",
          "height": 882
        },
        "id": "bvErRB4YWeY0",
        "outputId": "cad11181-ccda-4bcd-f813-bbaf0ba0dee0"
      },
      "outputs": [
        {
          "output_type": "stream",
          "name": "stdout",
          "text": [
            "<class 'pandas.core.frame.DataFrame'>\n",
            "Int64Index: 13462 entries, 309 to 12976\n",
            "Data columns (total 3 columns):\n",
            " #   Column            Non-Null Count  Dtype \n",
            "---  ------            --------------  ----- \n",
            " 0   Segment ID        13462 non-null  object\n",
            " 1   Sentiment         13462 non-null  object\n",
            " 2   Total Evaluation  13462 non-null  int64 \n",
            "dtypes: int64(1), object(2)\n",
            "memory usage: 420.7+ KB\n"
          ]
        },
        {
          "output_type": "execute_result",
          "data": {
            "text/plain": [
              "                         Segment ID  Sentiment  Total Evaluation\n",
              "2243   Sess08_script06_User016F_002   어 너무 짠해.                 4\n",
              "4194   Sess13_script04_User025F_018   너는 어땠는데                  0\n",
              "4147   Sess13_script05_User025F_023      무한도전.                 0\n",
              "4093   Sess13_script05_User026F_009  그런 거 같애요.                 0\n",
              "4062   Sess13_script05_User026F_043   너무 재밌어요.                 1\n",
              "4692   Sess14_script01_User028M_008      무한도전                  0\n",
              "4675   Sess14_script01_User028M_046     맞아 맞아.                 0\n",
              "5451   Sess16_script02_User031M_001     나 꼰대야.                 0\n",
              "5351   Sess16_script03_User031M_016     아 진짜로                  3\n",
              "5186   Sess16_script05_User031M_031     어 단둘이.                 0\n",
              "6189   Sess19_script05_User037M_018     아아 그래                  0\n",
              "8259   Sess25_script01_User049M_040   패밀리가 떴다.                 0\n",
              "7856   Sess25_script06_User050F_020   그럴 수 있지.                 0\n",
              "10309  Sess32_script03_User064F_008     너무 좋아.                 0\n",
              "10128  Sess32_script05_User063M_043   그럴 거 같애.                 0\n",
              "10132  Sess32_script05_User063M_044   그럴 거 같애.                 0\n",
              "11820  Sess36_script02_User072F_019     뭔지 알아                  1\n",
              "12841  Sess39_script02_User078F_013      그랬었지.                 0\n",
              "13461  Sess40_script01_User079F_016    아 아 그래                  3\n",
              "13289  Sess40_script03_User079F_023  아 그거 아니야                  1\n",
              "13179  Sess40_script04_User079F_047   어쩔 수 없어.                 0"
            ],
            "text/html": [
              "\n",
              "  <div id=\"df-0757a79c-2e03-4c5f-aeea-39aeb8e2e0b7\" class=\"colab-df-container\">\n",
              "    <div>\n",
              "<style scoped>\n",
              "    .dataframe tbody tr th:only-of-type {\n",
              "        vertical-align: middle;\n",
              "    }\n",
              "\n",
              "    .dataframe tbody tr th {\n",
              "        vertical-align: top;\n",
              "    }\n",
              "\n",
              "    .dataframe thead th {\n",
              "        text-align: right;\n",
              "    }\n",
              "</style>\n",
              "<table border=\"1\" class=\"dataframe\">\n",
              "  <thead>\n",
              "    <tr style=\"text-align: right;\">\n",
              "      <th></th>\n",
              "      <th>Segment ID</th>\n",
              "      <th>Sentiment</th>\n",
              "      <th>Total Evaluation</th>\n",
              "    </tr>\n",
              "  </thead>\n",
              "  <tbody>\n",
              "    <tr>\n",
              "      <th>2243</th>\n",
              "      <td>Sess08_script06_User016F_002</td>\n",
              "      <td>어 너무 짠해.</td>\n",
              "      <td>4</td>\n",
              "    </tr>\n",
              "    <tr>\n",
              "      <th>4194</th>\n",
              "      <td>Sess13_script04_User025F_018</td>\n",
              "      <td>너는 어땠는데</td>\n",
              "      <td>0</td>\n",
              "    </tr>\n",
              "    <tr>\n",
              "      <th>4147</th>\n",
              "      <td>Sess13_script05_User025F_023</td>\n",
              "      <td>무한도전.</td>\n",
              "      <td>0</td>\n",
              "    </tr>\n",
              "    <tr>\n",
              "      <th>4093</th>\n",
              "      <td>Sess13_script05_User026F_009</td>\n",
              "      <td>그런 거 같애요.</td>\n",
              "      <td>0</td>\n",
              "    </tr>\n",
              "    <tr>\n",
              "      <th>4062</th>\n",
              "      <td>Sess13_script05_User026F_043</td>\n",
              "      <td>너무 재밌어요.</td>\n",
              "      <td>1</td>\n",
              "    </tr>\n",
              "    <tr>\n",
              "      <th>4692</th>\n",
              "      <td>Sess14_script01_User028M_008</td>\n",
              "      <td>무한도전</td>\n",
              "      <td>0</td>\n",
              "    </tr>\n",
              "    <tr>\n",
              "      <th>4675</th>\n",
              "      <td>Sess14_script01_User028M_046</td>\n",
              "      <td>맞아 맞아.</td>\n",
              "      <td>0</td>\n",
              "    </tr>\n",
              "    <tr>\n",
              "      <th>5451</th>\n",
              "      <td>Sess16_script02_User031M_001</td>\n",
              "      <td>나 꼰대야.</td>\n",
              "      <td>0</td>\n",
              "    </tr>\n",
              "    <tr>\n",
              "      <th>5351</th>\n",
              "      <td>Sess16_script03_User031M_016</td>\n",
              "      <td>아 진짜로</td>\n",
              "      <td>3</td>\n",
              "    </tr>\n",
              "    <tr>\n",
              "      <th>5186</th>\n",
              "      <td>Sess16_script05_User031M_031</td>\n",
              "      <td>어 단둘이.</td>\n",
              "      <td>0</td>\n",
              "    </tr>\n",
              "    <tr>\n",
              "      <th>6189</th>\n",
              "      <td>Sess19_script05_User037M_018</td>\n",
              "      <td>아아 그래</td>\n",
              "      <td>0</td>\n",
              "    </tr>\n",
              "    <tr>\n",
              "      <th>8259</th>\n",
              "      <td>Sess25_script01_User049M_040</td>\n",
              "      <td>패밀리가 떴다.</td>\n",
              "      <td>0</td>\n",
              "    </tr>\n",
              "    <tr>\n",
              "      <th>7856</th>\n",
              "      <td>Sess25_script06_User050F_020</td>\n",
              "      <td>그럴 수 있지.</td>\n",
              "      <td>0</td>\n",
              "    </tr>\n",
              "    <tr>\n",
              "      <th>10309</th>\n",
              "      <td>Sess32_script03_User064F_008</td>\n",
              "      <td>너무 좋아.</td>\n",
              "      <td>0</td>\n",
              "    </tr>\n",
              "    <tr>\n",
              "      <th>10128</th>\n",
              "      <td>Sess32_script05_User063M_043</td>\n",
              "      <td>그럴 거 같애.</td>\n",
              "      <td>0</td>\n",
              "    </tr>\n",
              "    <tr>\n",
              "      <th>10132</th>\n",
              "      <td>Sess32_script05_User063M_044</td>\n",
              "      <td>그럴 거 같애.</td>\n",
              "      <td>0</td>\n",
              "    </tr>\n",
              "    <tr>\n",
              "      <th>11820</th>\n",
              "      <td>Sess36_script02_User072F_019</td>\n",
              "      <td>뭔지 알아</td>\n",
              "      <td>1</td>\n",
              "    </tr>\n",
              "    <tr>\n",
              "      <th>12841</th>\n",
              "      <td>Sess39_script02_User078F_013</td>\n",
              "      <td>그랬었지.</td>\n",
              "      <td>0</td>\n",
              "    </tr>\n",
              "    <tr>\n",
              "      <th>13461</th>\n",
              "      <td>Sess40_script01_User079F_016</td>\n",
              "      <td>아 아 그래</td>\n",
              "      <td>3</td>\n",
              "    </tr>\n",
              "    <tr>\n",
              "      <th>13289</th>\n",
              "      <td>Sess40_script03_User079F_023</td>\n",
              "      <td>아 그거 아니야</td>\n",
              "      <td>1</td>\n",
              "    </tr>\n",
              "    <tr>\n",
              "      <th>13179</th>\n",
              "      <td>Sess40_script04_User079F_047</td>\n",
              "      <td>어쩔 수 없어.</td>\n",
              "      <td>0</td>\n",
              "    </tr>\n",
              "  </tbody>\n",
              "</table>\n",
              "</div>\n",
              "    <div class=\"colab-df-buttons\">\n",
              "\n",
              "  <div class=\"colab-df-container\">\n",
              "    <button class=\"colab-df-convert\" onclick=\"convertToInteractive('df-0757a79c-2e03-4c5f-aeea-39aeb8e2e0b7')\"\n",
              "            title=\"Convert this dataframe to an interactive table.\"\n",
              "            style=\"display:none;\">\n",
              "\n",
              "  <svg xmlns=\"http://www.w3.org/2000/svg\" height=\"24px\" viewBox=\"0 -960 960 960\">\n",
              "    <path d=\"M120-120v-720h720v720H120Zm60-500h600v-160H180v160Zm220 220h160v-160H400v160Zm0 220h160v-160H400v160ZM180-400h160v-160H180v160Zm440 0h160v-160H620v160ZM180-180h160v-160H180v160Zm440 0h160v-160H620v160Z\"/>\n",
              "  </svg>\n",
              "    </button>\n",
              "\n",
              "  <style>\n",
              "    .colab-df-container {\n",
              "      display:flex;\n",
              "      gap: 12px;\n",
              "    }\n",
              "\n",
              "    .colab-df-convert {\n",
              "      background-color: #E8F0FE;\n",
              "      border: none;\n",
              "      border-radius: 50%;\n",
              "      cursor: pointer;\n",
              "      display: none;\n",
              "      fill: #1967D2;\n",
              "      height: 32px;\n",
              "      padding: 0 0 0 0;\n",
              "      width: 32px;\n",
              "    }\n",
              "\n",
              "    .colab-df-convert:hover {\n",
              "      background-color: #E2EBFA;\n",
              "      box-shadow: 0px 1px 2px rgba(60, 64, 67, 0.3), 0px 1px 3px 1px rgba(60, 64, 67, 0.15);\n",
              "      fill: #174EA6;\n",
              "    }\n",
              "\n",
              "    .colab-df-buttons div {\n",
              "      margin-bottom: 4px;\n",
              "    }\n",
              "\n",
              "    [theme=dark] .colab-df-convert {\n",
              "      background-color: #3B4455;\n",
              "      fill: #D2E3FC;\n",
              "    }\n",
              "\n",
              "    [theme=dark] .colab-df-convert:hover {\n",
              "      background-color: #434B5C;\n",
              "      box-shadow: 0px 1px 3px 1px rgba(0, 0, 0, 0.15);\n",
              "      filter: drop-shadow(0px 1px 2px rgba(0, 0, 0, 0.3));\n",
              "      fill: #FFFFFF;\n",
              "    }\n",
              "  </style>\n",
              "\n",
              "    <script>\n",
              "      const buttonEl =\n",
              "        document.querySelector('#df-0757a79c-2e03-4c5f-aeea-39aeb8e2e0b7 button.colab-df-convert');\n",
              "      buttonEl.style.display =\n",
              "        google.colab.kernel.accessAllowed ? 'block' : 'none';\n",
              "\n",
              "      async function convertToInteractive(key) {\n",
              "        const element = document.querySelector('#df-0757a79c-2e03-4c5f-aeea-39aeb8e2e0b7');\n",
              "        const dataTable =\n",
              "          await google.colab.kernel.invokeFunction('convertToInteractive',\n",
              "                                                    [key], {});\n",
              "        if (!dataTable) return;\n",
              "\n",
              "        const docLinkHtml = 'Like what you see? Visit the ' +\n",
              "          '<a target=\"_blank\" href=https://colab.research.google.com/notebooks/data_table.ipynb>data table notebook</a>'\n",
              "          + ' to learn more about interactive tables.';\n",
              "        element.innerHTML = '';\n",
              "        dataTable['output_type'] = 'display_data';\n",
              "        await google.colab.output.renderOutput(dataTable, element);\n",
              "        const docLink = document.createElement('div');\n",
              "        docLink.innerHTML = docLinkHtml;\n",
              "        element.appendChild(docLink);\n",
              "      }\n",
              "    </script>\n",
              "  </div>\n",
              "\n",
              "\n",
              "<div id=\"df-33c06f9a-fcdf-49ea-b325-70890f0f7b07\">\n",
              "  <button class=\"colab-df-quickchart\" onclick=\"quickchart('df-33c06f9a-fcdf-49ea-b325-70890f0f7b07')\"\n",
              "            title=\"Suggest charts.\"\n",
              "            style=\"display:none;\">\n",
              "\n",
              "<svg xmlns=\"http://www.w3.org/2000/svg\" height=\"24px\"viewBox=\"0 0 24 24\"\n",
              "     width=\"24px\">\n",
              "    <g>\n",
              "        <path d=\"M19 3H5c-1.1 0-2 .9-2 2v14c0 1.1.9 2 2 2h14c1.1 0 2-.9 2-2V5c0-1.1-.9-2-2-2zM9 17H7v-7h2v7zm4 0h-2V7h2v10zm4 0h-2v-4h2v4z\"/>\n",
              "    </g>\n",
              "</svg>\n",
              "  </button>\n",
              "\n",
              "<style>\n",
              "  .colab-df-quickchart {\n",
              "    background-color: #E8F0FE;\n",
              "    border: none;\n",
              "    border-radius: 50%;\n",
              "    cursor: pointer;\n",
              "    display: none;\n",
              "    fill: #1967D2;\n",
              "    height: 32px;\n",
              "    padding: 0 0 0 0;\n",
              "    width: 32px;\n",
              "  }\n",
              "\n",
              "  .colab-df-quickchart:hover {\n",
              "    background-color: #E2EBFA;\n",
              "    box-shadow: 0px 1px 2px rgba(60, 64, 67, 0.3), 0px 1px 3px 1px rgba(60, 64, 67, 0.15);\n",
              "    fill: #174EA6;\n",
              "  }\n",
              "\n",
              "  [theme=dark] .colab-df-quickchart {\n",
              "    background-color: #3B4455;\n",
              "    fill: #D2E3FC;\n",
              "  }\n",
              "\n",
              "  [theme=dark] .colab-df-quickchart:hover {\n",
              "    background-color: #434B5C;\n",
              "    box-shadow: 0px 1px 3px 1px rgba(0, 0, 0, 0.15);\n",
              "    filter: drop-shadow(0px 1px 2px rgba(0, 0, 0, 0.3));\n",
              "    fill: #FFFFFF;\n",
              "  }\n",
              "</style>\n",
              "\n",
              "  <script>\n",
              "    async function quickchart(key) {\n",
              "      const charts = await google.colab.kernel.invokeFunction(\n",
              "          'suggestCharts', [key], {});\n",
              "    }\n",
              "    (() => {\n",
              "      let quickchartButtonEl =\n",
              "        document.querySelector('#df-33c06f9a-fcdf-49ea-b325-70890f0f7b07 button');\n",
              "      quickchartButtonEl.style.display =\n",
              "        google.colab.kernel.accessAllowed ? 'block' : 'none';\n",
              "    })();\n",
              "  </script>\n",
              "</div>\n",
              "    </div>\n",
              "  </div>\n"
            ]
          },
          "metadata": {},
          "execution_count": 34
        }
      ],
      "source": [
        "X_data = df['Sentiment']\n",
        "y_data = df['Total Evaluation']\n",
        "\n",
        "df.info() #Non=Null임을 확인\n",
        "df[df['Sentiment'].duplicated()]"
      ]
    },
    {
      "cell_type": "markdown",
      "metadata": {
        "id": "yoEbQkTNJiVl"
      },
      "source": [
        "중복되는 값이 있는지 확인하고 제거"
      ]
    },
    {
      "cell_type": "code",
      "execution_count": 35,
      "metadata": {
        "colab": {
          "base_uri": "https://localhost:8080/",
          "height": 70
        },
        "id": "SLiMBSmmXO4V",
        "outputId": "187d1290-328e-4f20-d383-e95ac2804272"
      },
      "outputs": [
        {
          "output_type": "execute_result",
          "data": {
            "text/plain": [
              "\"\\nDATASET_PREP_FILE = '/content/drive/MyDrive/wav/sentiment_evaluation.csv'\\n# 중복 데이터 제거\\ndf.drop_duplicates(subset = ['Sentiment'], inplace = True)\\ndf.to_csv(DATASET_PREP_FILE) # 구글 드라이브 내 data 폴더에 저장\\n\""
            ],
            "application/vnd.google.colaboratory.intrinsic+json": {
              "type": "string"
            }
          },
          "metadata": {},
          "execution_count": 35
        }
      ],
      "source": [
        "\n",
        "\n",
        "'''\n",
        "DATASET_PREP_FILE = '/content/drive/MyDrive/wav/sentiment_evaluation.csv'\n",
        "# 중복 데이터 제거\n",
        "df.drop_duplicates(subset = ['Sentiment'], inplace = True)\n",
        "df.to_csv(DATASET_PREP_FILE) # 구글 드라이브 내 data 폴더에 저장\n",
        "'''"
      ]
    },
    {
      "cell_type": "code",
      "execution_count": 36,
      "metadata": {
        "colab": {
          "base_uri": "https://localhost:8080/",
          "height": 444
        },
        "id": "teU9B-KSXg2z",
        "outputId": "5c06d471-e9f1-49dc-a7d5-8b1f1297944d"
      },
      "outputs": [
        {
          "output_type": "display_data",
          "data": {
            "text/plain": [
              "<Figure size 640x480 with 1 Axes>"
            ],
            "image/png": "[encoded data removed]"
          },
          "metadata": {}
        }
      ],
      "source": [
        "df['Total Evaluation'].value_counts().plot(kind = 'bar')\n",
        "plt.xlabel(\"Total Evaluation\")\n",
        "plt.ylabel(\"Sentiment\")\n",
        "plt.show()"
      ]
    },
    {
      "cell_type": "code",
      "execution_count": 37,
      "metadata": {
        "colab": {
          "base_uri": "https://localhost:8080/"
        },
        "id": "8WgAK4K4JyH0",
        "outputId": "5d6f8a70-bca4-42e0-b867-f51efbdc851b"
      },
      "outputs": [
        {
          "output_type": "stream",
          "name": "stdout",
          "text": [
            "36.97518942207696\n",
            "30.104961377560663\n",
            "906.3086995444193\n"
          ]
        }
      ],
      "source": [
        "lengths=[len(row) for row in df['Sentiment']]\n",
        "print(np.mean(lengths))\n",
        "print(np.std(lengths))\n",
        "print(np.var(lengths))"
      ]
    },
    {
      "cell_type": "code",
      "execution_count": 38,
      "metadata": {
        "colab": {
          "base_uri": "https://localhost:8080/"
        },
        "id": "xVDM6OcdX6nI",
        "outputId": "972fb875-723e-46a5-b8d7-15b9b3f9b610"
      },
      "outputs": [
        {
          "output_type": "stream",
          "name": "stdout",
          "text": [
            "훈련 입력 데이터 개수: 10769\n",
            "검증 데이터 개수: 1346\n",
            "테스트 입력 데이터 개수: 1347\n",
            "0    0.835639\n",
            "1    0.114588\n",
            "2    0.017272\n",
            "3    0.015786\n",
            "4    0.009007\n",
            "5    0.004550\n",
            "6    0.003157\n",
            "Name: Total Evaluation, dtype: float64\n",
            "0    0.835810\n",
            "1    0.114413\n",
            "2    0.017088\n",
            "3    0.015602\n",
            "4    0.008915\n",
            "5    0.004458\n",
            "6    0.003715\n",
            "Name: Total Evaluation, dtype: float64\n",
            "0    0.835189\n",
            "1    0.115071\n",
            "2    0.017817\n",
            "3    0.015590\n",
            "4    0.008909\n",
            "5    0.004454\n",
            "6    0.002970\n",
            "Name: Total Evaluation, dtype: float64\n"
          ]
        }
      ],
      "source": [
        "TRAIN_SIZE = 0.8\n",
        "VALIDATION_SIZE = 0.1\n",
        "TEST_SIZE = 0.1 # Train: VALIDATION: Test = 8 :1: 1 분리\n",
        "RANDOM_STATE = 42\n",
        "\n",
        "# 훈련 데이터와 검증 데이터 분리 (8:2)\n",
        "X_train, X_temp, y_train, y_temp = train_test_split(X_data, y_data,\n",
        "                                                    test_size=1-TRAIN_SIZE,\n",
        "                                                    random_state=RANDOM_STATE,\n",
        "                                                    stratify=y_data)\n",
        "\n",
        "# 검증 데이터와 테스트 데이터 분리 (1:1)\n",
        "X_val, X_test, y_val, y_test = train_test_split(X_temp, y_temp,\n",
        "                                                test_size=TEST_SIZE / (TEST_SIZE + VALIDATION_SIZE),\n",
        "                                                random_state=RANDOM_STATE,\n",
        "                                                stratify=y_temp)\n",
        "print(f\"훈련 입력 데이터 개수: {len(X_train)}\")\n",
        "print(f\"검증 데이터 개수: {len(X_val)}\")\n",
        "print(f\"테스트 입력 데이터 개수: {len(X_test)}\")\n",
        "\n",
        "# 훈련 데이터 라벨별 비율\n",
        "print(y_train.value_counts(normalize = True))\n",
        "\n",
        "# 검증 데이터 라벨별 비율\n",
        "print(y_val.value_counts(normalize = True))\n",
        "\n",
        "# 테스트 데이터 라벨별 비율\n",
        "print(y_test.value_counts(normalize = True))"
      ]
    },
    {
      "cell_type": "code",
      "execution_count": 39,
      "metadata": {
        "id": "AhZLsbA7ZO61"
      },
      "outputs": [],
      "source": [
        "# 입력 데이터(문장) 길이 제한\n",
        "MAX_SEQ_LEN = 70\n",
        "\n",
        "def convert_data(X_data, y_data):\n",
        "    # BERT 입력으로 들어가는 token, mask, segment, target 저장용 리스트\n",
        "    tokens, masks, targets = [], [], []\n",
        "\n",
        "    for X, y in tqdm(zip(X_data, y_data)):\n",
        "        # token: 입력 문장 토큰화\n",
        "        token = tokenizer.encode(X, truncation=True, padding='max_length', max_length=MAX_SEQ_LEN)\n",
        "\n",
        "        # mask: 패딩이 아닌 경우 1, 패딩인 경우 0으로 초기화\n",
        "        mask = [1] * len(token) + [0] * (MAX_SEQ_LEN - len(token))\n",
        "\n",
        "        tokens.append(token)\n",
        "        masks.append(mask)\n",
        "        targets.append(tf.one_hot(y, depth=7))  # 타깃 데이터를 원-핫 인코딩\n",
        "\n",
        "    # numpy array로 저장\n",
        "    tokens = np.array(tokens)\n",
        "    masks = np.array(masks)\n",
        "    targets = np.array(targets)\n",
        "\n",
        "    return [tokens, masks], targets  # train 데이터를 Bert의 Input 타입에 맞게 변환"
      ]
    },
    {
      "cell_type": "code",
      "execution_count": 40,
      "metadata": {
        "colab": {
          "base_uri": "https://localhost:8080/"
        },
        "id": "G_bfCAoYZXUE",
        "outputId": "08bcc28a-4d9d-4813-f0a0-b07e8062ed44"
      },
      "outputs": [
        {
          "output_type": "stream",
          "name": "stderr",
          "text": [
            "10769it [00:04, 2475.95it/s]\n",
            "1346it [00:00, 2095.14it/s]\n",
            "1347it [00:00, 1953.12it/s]\n"
          ]
        }
      ],
      "source": [
        "# 각 데이터를 Bert의 Input 타입에 맞게 변환\n",
        "train_x, train_y = convert_data(X_train, y_train)\n",
        "val_x, val_y = convert_data(X_val, y_val)\n",
        "test_x, test_y = convert_data(X_test, y_test)"
      ]
    },
    {
      "cell_type": "code",
      "execution_count": 41,
      "metadata": {
        "id": "Rb_Om68ZZhk-"
      },
      "outputs": [],
      "source": [
        "# token, mask 입력 정의\n",
        "token_inputs = tf.keras.layers.Input((MAX_SEQ_LEN,), dtype = tf.int32, name = 'input_word_ids')\n",
        "mask_inputs = tf.keras.layers.Input((MAX_SEQ_LEN,), dtype = tf.int32, name = 'input_masks')\n",
        "bert_outputs = model(token_inputs, mask_inputs)\n",
        "\n"
      ]
    },
    {
      "cell_type": "code",
      "execution_count": 48,
      "metadata": {
        "id": "aFpvwufWZqzF"
      },
      "outputs": [],
      "source": [
        "bert_output = bert_outputs[0][:, 0, :]\n",
        "\n",
        "DROPOUT_RATE = 0.5\n",
        "NUM_CLASS = 7\n",
        "dropout = tf.keras.layers.Dropout(DROPOUT_RATE)(bert_output)\n",
        "# Multi-class classification 문제이므로 activation function은 softmax로 설정\n",
        "sentiment_layer = tf.keras.layers.Dense(NUM_CLASS, activation='softmax', kernel_initializer = tf.keras.initializers.TruncatedNormal(stddev=0.02))(dropout)\n",
        "sentiment_model = tf.keras.Model([token_inputs, mask_inputs], sentiment_layer)\n",
        "\n",
        "# 옵티마이저 Rectified Adam 하이퍼파리미터 조정\n",
        "OPTIMIZER_NAME = 'RAdam'\n",
        "LEARNING_RATE = 1e-5\n",
        "TOTAL_STEPS = 10000\n",
        "MIN_LR = 1e-5\n",
        "WARMUP_PROPORTION = 0.1\n",
        "EPSILON = 1e-8\n",
        "CLIPNORM = 1.0\n",
        "optimizer = tfa.optimizers.RectifiedAdam(learning_rate = LEARNING_RATE,\n",
        "                                          total_steps = TOTAL_STEPS,\n",
        "                                          warmup_proportion = WARMUP_PROPORTION,\n",
        "                                          min_lr = MIN_LR,\n",
        "                                          epsilon = EPSILON,\n",
        "                                          clipnorm = CLIPNORM)\n",
        "\n",
        "\n",
        "# 감정분류 모델 컴파일\n",
        "sentiment_model.compile(optimizer=optimizer,\n",
        "                        loss=tf.keras.losses.CategoricalCrossentropy(),\n",
        "                        metrics=['accuracy'])\n",
        "\n",
        "MIN_DELTA = 1e-3\n",
        "PATIENCE = 5\n",
        "\n",
        "early_stopping = EarlyStopping(\n",
        "    monitor = \"val_accuracy\",\n",
        "    min_delta = MIN_DELTA,\n",
        "    patience = PATIENCE)\n",
        "\n",
        "# 최고 성능의 모델 파일을 저장할 이름과 경로 설정\n",
        "BEST_MODEL_NAME = 'best_model.h5'\n",
        "model_checkpoint = ModelCheckpoint(\n",
        "    filepath = BEST_MODEL_NAME,\n",
        "    monitor = \"val_loss\",\n",
        "    mode = \"min\",\n",
        "    save_best_only = True, # 성능 향상 시에만 모델 저장\n",
        "    verbose = 1\n",
        ")\n",
        "\n",
        "callbacks = [early_stopping, model_checkpoint]"
      ]
    },
    {
      "cell_type": "code",
      "execution_count": 49,
      "metadata": {
        "colab": {
          "base_uri": "https://localhost:8080/"
        },
        "id": "4XLPbEljaG7I",
        "outputId": "3e33124a-e251-4497-f79f-e0eda231ed53"
      },
      "outputs": [
        {
          "output_type": "stream",
          "name": "stdout",
          "text": [
            "Epoch 1/100\n"
          ]
        },
        {
          "output_type": "stream",
          "name": "stderr",
          "text": [
            "WARNING:tensorflow:Gradients do not exist for variables ['tf_roberta_model_1/roberta/pooler/dense/kernel:0', 'tf_roberta_model_1/roberta/pooler/dense/bias:0'] when minimizing the loss. If you're using `model.compile()`, did you forget to provide a `loss` argument?\n",
            "WARNING:tensorflow:Gradients do not exist for variables ['tf_roberta_model_1/roberta/pooler/dense/kernel:0', 'tf_roberta_model_1/roberta/pooler/dense/bias:0'] when minimizing the loss. If you're using `model.compile()`, did you forget to provide a `loss` argument?\n"
          ]
        },
        {
          "output_type": "stream",
          "name": "stdout",
          "text": [
            "337/337 [==============================] - ETA: 0s - loss: 1.0590 - accuracy: 0.7019\n",
            "Epoch 1: val_loss improved from inf to 0.63408, saving model to best_model.h5\n",
            "337/337 [==============================] - 264s 584ms/step - loss: 1.0590 - accuracy: 0.7019 - val_loss: 0.6341 - val_accuracy: 0.8358\n",
            "Epoch 2/100\n",
            "337/337 [==============================] - ETA: 0s - loss: 0.6361 - accuracy: 0.8356\n",
            "Epoch 2: val_loss improved from 0.63408 to 0.60171, saving model to best_model.h5\n",
            "337/337 [==============================] - 190s 565ms/step - loss: 0.6361 - accuracy: 0.8356 - val_loss: 0.6017 - val_accuracy: 0.8358\n",
            "Epoch 3/100\n",
            "337/337 [==============================] - ETA: 0s - loss: 0.6063 - accuracy: 0.8352\n",
            "Epoch 3: val_loss improved from 0.60171 to 0.58934, saving model to best_model.h5\n",
            "337/337 [==============================] - 188s 559ms/step - loss: 0.6063 - accuracy: 0.8352 - val_loss: 0.5893 - val_accuracy: 0.8358\n",
            "Epoch 4/100\n",
            "337/337 [==============================] - ETA: 0s - loss: 0.5752 - accuracy: 0.8365\n",
            "Epoch 4: val_loss improved from 0.58934 to 0.57586, saving model to best_model.h5\n",
            "337/337 [==============================] - 191s 566ms/step - loss: 0.5752 - accuracy: 0.8365 - val_loss: 0.5759 - val_accuracy: 0.8358\n",
            "Epoch 5/100\n",
            "337/337 [==============================] - ETA: 0s - loss: 0.5374 - accuracy: 0.8389\n",
            "Epoch 5: val_loss improved from 0.57586 to 0.53811, saving model to best_model.h5\n",
            "337/337 [==============================] - 199s 589ms/step - loss: 0.5374 - accuracy: 0.8389 - val_loss: 0.5381 - val_accuracy: 0.8380\n",
            "Epoch 6/100\n",
            "337/337 [==============================] - ETA: 0s - loss: 0.4989 - accuracy: 0.8427\n",
            "Epoch 6: val_loss improved from 0.53811 to 0.52580, saving model to best_model.h5\n",
            "337/337 [==============================] - 191s 567ms/step - loss: 0.4989 - accuracy: 0.8427 - val_loss: 0.5258 - val_accuracy: 0.8351\n",
            "Epoch 7/100\n",
            "337/337 [==============================] - ETA: 0s - loss: 0.4556 - accuracy: 0.8497\n",
            "Epoch 7: val_loss did not improve from 0.52580\n",
            "337/337 [==============================] - 183s 543ms/step - loss: 0.4556 - accuracy: 0.8497 - val_loss: 0.5391 - val_accuracy: 0.8306\n",
            "Epoch 8/100\n",
            "337/337 [==============================] - ETA: 0s - loss: 0.4032 - accuracy: 0.8655\n",
            "Epoch 8: val_loss did not improve from 0.52580\n",
            "337/337 [==============================] - 183s 542ms/step - loss: 0.4032 - accuracy: 0.8655 - val_loss: 0.5690 - val_accuracy: 0.8299\n",
            "Epoch 9/100\n",
            "337/337 [==============================] - ETA: 0s - loss: 0.3440 - accuracy: 0.8839\n",
            "Epoch 9: val_loss did not improve from 0.52580\n",
            "337/337 [==============================] - 179s 531ms/step - loss: 0.3440 - accuracy: 0.8839 - val_loss: 0.5802 - val_accuracy: 0.8202\n",
            "Epoch 10/100\n",
            "337/337 [==============================] - ETA: 0s - loss: 0.2975 - accuracy: 0.8981\n",
            "Epoch 10: val_loss did not improve from 0.52580\n",
            "337/337 [==============================] - 183s 542ms/step - loss: 0.2975 - accuracy: 0.8981 - val_loss: 0.6123 - val_accuracy: 0.8321\n"
          ]
        },
        {
          "output_type": "execute_result",
          "data": {
            "text/plain": [
              "<keras.callbacks.History at 0x7fe0ecb375b0>"
            ]
          },
          "metadata": {},
          "execution_count": 49
        }
      ],
      "source": [
        "EPOCHS = 100\n",
        "BATCH_SIZE = 32\n",
        "\n",
        "sentiment_model.fit(train_x, train_y,\n",
        "                    epochs = EPOCHS,\n",
        "                    shuffle = True,\n",
        "                    batch_size = BATCH_SIZE,\n",
        "                    validation_data = (val_x, val_y),\n",
        "                    callbacks = callbacks\n",
        "                    )"
      ]
    },
    {
      "cell_type": "code",
      "execution_count": 50,
      "metadata": {
        "id": "9GVVPXgYaI5c",
        "colab": {
          "base_uri": "https://localhost:8080/"
        },
        "outputId": "7620d086-e0d4-4cd8-a355-7f64a43630f8"
      },
      "outputs": [
        {
          "output_type": "stream",
          "name": "stdout",
          "text": [
            "43/43 [==============================] - 9s 149ms/step\n",
            "[0 0 0 ... 0 0 0]\n",
            "neutral:  1241\n",
            "happy:  61\n",
            "angry:  8\n",
            "surprise:  12\n",
            "sad:  14\n",
            "disqust:  1\n",
            "fear:  9\n"
          ]
        }
      ],
      "source": [
        "output=sentiment_model.predict(val_x)\n",
        "\n",
        "# 'sentiment_model.predict(val_x)'의 출력이 'output' 변수에 저장되어 있다고 가정합니다.\n",
        "# 실제 변수 이름이 'output'이 아니라면 해당 변수 이름으로 바꿔주세요.\n",
        "\n",
        "# 각 리스트(배열)에서 가장 큰 값의 인덱스를 찾습니다.\n",
        "max_indices = np.argmax(output, axis=1)\n",
        "\n",
        "print(max_indices)\n",
        "\n",
        "s1=0\n",
        "s2=0\n",
        "s3=0\n",
        "s4=0\n",
        "s5=0\n",
        "s6=0\n",
        "s7=0\n",
        "for i in max_indices:\n",
        "    if i == 0:\n",
        "        s1=s1+1\n",
        "    elif i == 1:\n",
        "        s2=s2+1\n",
        "    elif i == 2:\n",
        "        s3=s3+1\n",
        "    elif i == 3:\n",
        "        s4=s4+1\n",
        "    elif i == 4:\n",
        "        s5=s5+1\n",
        "    elif i == 5:\n",
        "        s6=s6+1\n",
        "    else:\n",
        "        s7=s7+1\n",
        "\n",
        "print(\"neutral: \", s1)\n",
        "print(\"happy: \", s2)\n",
        "print(\"angry: \", s3)\n",
        "print(\"surprise: \", s4)\n",
        "print(\"sad: \", s5)\n",
        "print(\"disqust: \", s6)\n",
        "print(\"fear: \", s7)\n"
      ]
    },
    {
      "cell_type": "code",
      "source": [
        "test_loss, test_accuracy = sentiment_model.evaluate(test_x, test_y, batch_size=BATCH_SIZE)\n",
        "print(\"Test Loss:\", test_loss)\n",
        "print(\"Test Accuracy:\", test_accuracy)"
      ],
      "metadata": {
        "colab": {
          "base_uri": "https://localhost:8080/"
        },
        "id": "COPkQnB0Crz0",
        "outputId": "7937d405-c9cd-45d1-ae18-75275f9c436b"
      },
      "execution_count": 51,
      "outputs": [
        {
          "output_type": "stream",
          "name": "stdout",
          "text": [
            "43/43 [==============================] - 7s 151ms/step - loss: 0.5814 - accuracy: 0.8189\n",
            "Test Loss: 0.5814313292503357\n",
            "Test Accuracy: 0.8188567161560059\n"
          ]
        }
      ]
    },
    {
      "cell_type": "code",
      "execution_count": 52,
      "metadata": {
        "id": "8FcmziBAaebP",
        "colab": {
          "base_uri": "https://localhost:8080/"
        },
        "outputId": "96150b8e-6e12-47e5-cdd4-c9631bb30302"
      },
      "outputs": [
        {
          "output_type": "stream",
          "name": "stderr",
          "text": [
            "1it [00:00, 378.96it/s]\n"
          ]
        },
        {
          "output_type": "stream",
          "name": "stdout",
          "text": [
            "1/1 [==============================] - 1s 1s/step\n",
            "text: 깜짝 놀랐네\n",
            "가장 높은 감정 비율: 28 %\n",
            "예측 감정: surprised\n"
          ]
        }
      ],
      "source": [
        "# 예측할 텍스트 입력\n",
        "test_text =\"깜짝 놀랐네\"  #그래서 난 행복해, 그래서 난 화가 나, 그래서 난 놀랐어, 그래서 난 울었어, 진짜 극혐, 그래서 난 무서워\n",
        "\n",
        "# 텍스트 토크나이징 및 변환\n",
        "test_inputs, _ = convert_data([test_text], [0])\n",
        "\n",
        "# 입력 데이터를 텐서로 변환 (numpy array를 TensorFlow tensor로 변환)\n",
        "input_ids = tf.constant(test_inputs[0])\n",
        "attention_mask = tf.constant(test_inputs[1])\n",
        "\n",
        "# 모델 예측\n",
        "with tf.device('/CPU:0'):  # CPU 사용으로 설정\n",
        "    outputs = sentiment_model.predict([input_ids, attention_mask])\n",
        "\n",
        "# 로짓값 얻기\n",
        "logits = outputs[0]\n",
        "\n",
        "# 소프트맥스 함수를 통해 확률 계산\n",
        "probabilities = tf.nn.softmax(logits, axis=-1).numpy()\n",
        "\n",
        "# 가장 높은 확률을 가진 클래스를 예측 결과로 선택\n",
        "predicted_classes = tf.argmax(probabilities, axis=-1).numpy()\n",
        "\n",
        "# 로짓값과 예측 결과 출력\n",
        "print(\"text:\",test_text)\n",
        "#print(\"Logits values:\", logits)\n",
        "#print(\"Probabilities:\", probabilities)\n",
        "print(\"가장 높은 감정 비율:\", int(probabilities.max()*100),\"%\")\n",
        "\n",
        "class_labels = ['neutral', 'happy', 'angry', 'surprised', 'sad', 'disgust', 'fear']\n",
        "\n",
        "# 가장 높은 확률을 가진 클래스를 예측 결과로 선택\n",
        "predicted_class = tf.argmax(probabilities, axis=-1).numpy()\n",
        "\n",
        "# 예측된 클래스를 문자열로 출력\n",
        "predicted_emotion = class_labels[predicted_class]\n",
        "\n",
        "print(f\"예측 감정: {predicted_emotion}\")"
      ]
    },
    {
      "cell_type": "code",
      "source": [
        "'''\n",
        "text: 아 깜짝이야.\n",
        "가장 높은 감정 비율: 23 %\n",
        "예측 감정: surprised\n",
        "\n",
        "text: 아 깜짝이야. 그래서 난 놀랐어.\n",
        "가장 높은 감정 비율: 27 %\n",
        "예측 감정: surprised\n",
        "\n",
        "text: 진짜 슬프더라.\n",
        "가장 높은 감정 비율: 20 %\n",
        "예측 감정: sad\n",
        "\n",
        "text: 진짜 슬프더라. 그래서 난 울었어.\n",
        "가장 높은 감정 비율: 28 %\n",
        "예측 감정: sad\n",
        "\n",
        "text: 왜 날 짜증나게 하는거야?\n",
        "가장 높은 감정 비율: 26 %\n",
        "예측 감정: angry\n",
        "\n",
        "text: 왜 날 짜증나게 하는거야? 그래서 난 화가 나\n",
        "가장 높은 감정 비율: 29 %\n",
        "예측 감정: angry\n",
        "\n",
        "text: 아 나 진짜 싫어\n",
        "가장 높은 감정 비율: 22 %\n",
        "예측 감정: surprised\n",
        "\n",
        "text: 아 나 진짜 싫어. 진짜 극혐\n",
        "가장 높은 감정 비율: 25 %\n",
        "예측 감정: disgust\n",
        "\n",
        "text: 고마워 너 덕분이야\n",
        "가장 높은 감정 비율: 29 %\n",
        "예측 감정: happy\n",
        "\n",
        "text: 고마워 너 덕분이야. 그래서 난 행복해\n",
        "가장 높은 감정 비율: 24 %\n",
        "예측 감정: happy\n",
        "'''"
      ],
      "metadata": {
        "id": "V0SLtap9122N",
        "colab": {
          "base_uri": "https://localhost:8080/",
          "height": 192
        },
        "outputId": "89fbae6f-cf05-4563-89e2-588404c3e8f5"
      },
      "execution_count": 53,
      "outputs": [
        {
          "output_type": "execute_result",
          "data": {
            "text/plain": [
              "'\\ntext: 아 깜짝이야.\\n가장 높은 감정 비율: 23 %\\n예측 감정: surprised\\n\\ntext: 아 깜짝이야. 그래서 난 놀랐어.\\n가장 높은 감정 비율: 27 %\\n예측 감정: surprised\\n\\ntext: 진짜 슬프더라.\\n가장 높은 감정 비율: 20 %\\n예측 감정: sad\\n\\ntext: 진짜 슬프더라. 그래서 난 울었어.\\n가장 높은 감정 비율: 28 %\\n예측 감정: sad\\n\\ntext: 왜 날 짜증나게 하는거야?\\n가장 높은 감정 비율: 26 %\\n예측 감정: angry\\n\\ntext: 왜 날 짜증나게 하는거야? 그래서 난 화가 나\\n가장 높은 감정 비율: 29 %\\n예측 감정: angry\\n\\ntext: 아 나 진짜 싫어\\n가장 높은 감정 비율: 22 %\\n예측 감정: surprised\\n\\ntext: 아 나 진짜 싫어. 진짜 극혐\\n가장 높은 감정 비율: 25 %\\n예측 감정: disgust\\n\\ntext: 고마워 너 덕분이야\\n가장 높은 감정 비율: 29 %\\n예측 감정: happy\\n\\ntext: 고마워 너 덕분이야. 그래서 난 행복해\\n가장 높은 감정 비율: 24 %\\n예측 감정: happy\\n'"
            ],
            "application/vnd.google.colaboratory.intrinsic+json": {
              "type": "string"
            }
          },
          "metadata": {},
          "execution_count": 53
        }
      ]
    },
    {
      "cell_type": "code",
      "source": [],
      "metadata": {
        "id": "yqhjTohYfcEt"
      },
      "execution_count": null,
      "outputs": []
    }
  ],
  "metadata": {
    "accelerator": "GPU",
    "colab": {
      "provenance": [],
      "gpuType": "T4",
      "authorship_tag": "ABX9TyODNrH+BqDvHw2CidtTLWHM",
      "include_colab_link": true
    },
    "kernelspec": {
      "display_name": "Python 3",
      "name": "python3"
    },
    "language_info": {
      "name": "python"
    }
  },
  "nbformat": 4,
  "nbformat_minor": 0
}